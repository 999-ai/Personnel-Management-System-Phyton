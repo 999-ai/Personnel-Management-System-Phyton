{
 "cells": [
  {
   "cell_type": "code",
   "execution_count": null,
   "id": "3b0015a5-8642-460a-9ec8-2038d1edb914",
   "metadata": {},
   "outputs": [],
   "source": [
    "class Employee:\n",
    "  def __init__(self,name,salary,department):\n",
    "     self.name=name\n",
    "     self.salary=salary\n",
    "     self.department=department\n",
    "  \n",
    "  def show_info(self):\n",
    "     print(f\"name={self.name},salary={self.salary},department={self.department}\")\n",
    "\n",
    "class Manager(Employee):\n",
    "  def __init__(self,name,salary,department,team_member):\n",
    "       super().__init__(name,salary,department)\n",
    "       self.team_member=team_member\n",
    "   \n",
    "  def show_info(self):\n",
    "       super().show_info()\n",
    "       print(f\"team member:{self.team_member}\")\n",
    "\n",
    "class Executive(Manager):\n",
    "  def __init__(self,name,salary,department,team_member,budget_management):\n",
    "     super().__init__(name,salary,department,team_member)\n",
    "     self.budget_management=budget_management\n",
    "\n",
    "  def show_info(self):\n",
    "       super().show_info()\n",
    "       print(f\"budget management:{self.budget_management}\")\n",
    "\n",
    "\n",
    "employee1=Employee(\"Sibel\",3000,\"Finance\")\n",
    "employee1.show_info()\n",
    "\n",
    "\n",
    "manager1=Manager(\"Ali\",5000,\"Human resources\",2)\n",
    "manager1.show_info()\n",
    "\n",
    "\n",
    "executive1=Executive(\"Ayse\",2000,\"ıT\",3,\"Budgetmanagement\")\n",
    "executive1.show_info()\n",
    "\n",
    "\n"
   ]
  }
 ],
 "metadata": {
  "kernelspec": {
   "display_name": "Python 3 (ipykernel)",
   "language": "python",
   "name": "python3"
  },
  "language_info": {
   "codemirror_mode": {
    "name": "ipython",
    "version": 3
   },
   "file_extension": ".py",
   "mimetype": "text/x-python",
   "name": "python",
   "nbconvert_exporter": "python",
   "pygments_lexer": "ipython3",
   "version": "3.12.4"
  }
 },
 "nbformat": 4,
 "nbformat_minor": 5
}
